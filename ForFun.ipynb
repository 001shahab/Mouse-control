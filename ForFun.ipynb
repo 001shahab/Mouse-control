{
 "cells": [
  {
   "cell_type": "code",
   "execution_count": null,
   "metadata": {},
   "outputs": [],
   "source": [
    "\n",
    "# %pip install pyautogui"
   ]
  },
  {
   "cell_type": "code",
   "execution_count": null,
   "metadata": {},
   "outputs": [],
   "source": [
    "import pyautogui as pag\n",
    "import random\n",
    "import time"
   ]
  },
  {
   "cell_type": "code",
   "execution_count": null,
   "metadata": {},
   "outputs": [],
   "source": [
    "screen_width, screen_height = pyautogui.size()\n",
    "\n",
    "while True:\n",
    "    x_pos, y_pos = pyautogui.position()\n",
    "    if x_pos+5 < screen_width:\n",
    "        x = x_pos+5\n",
    "    else:\n",
    "        x = x_pos-5\n",
    "    if y_pos+5 < screen_height:\n",
    "        y = y_pos+5\n",
    "    else:\n",
    "        y = y_pos-5\n",
    "    pag.moveTo(x,y,0.5)\n",
    "    time.sleep(10)\n",
    "\n"
   ]
  }
 ],
 "metadata": {
  "kernelspec": {
   "display_name": "Python 3",
   "language": "python",
   "name": "python3"
  },
  "language_info": {
   "codemirror_mode": {
    "name": "ipython",
    "version": 3
   },
   "file_extension": ".py",
   "mimetype": "text/x-python",
   "name": "python",
   "nbconvert_exporter": "python",
   "pygments_lexer": "ipython3",
   "version": "3.9.6"
  }
 },
 "nbformat": 4,
 "nbformat_minor": 2
}
