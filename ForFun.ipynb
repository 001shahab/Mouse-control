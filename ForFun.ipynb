{
 "cells": [
  {
   "cell_type": "code",
   "execution_count": null,
   "metadata": {},
   "outputs": [],
   "source": [
    "\n",
    "# %pip install pyautogui"
   ]
  },
  {
   "cell_type": "code",
   "execution_count": null,
   "metadata": {},
   "outputs": [],
   "source": [
    "import pyautogui as pag\n",
    "import random\n",
    "import time"
   ]
  },
  {
   "cell_type": "code",
   "execution_count": null,
   "metadata": {},
   "outputs": [],
   "source": [
    "mouse_position = pag.position()\n",
    "mouse_position\n",
    "import pyautogui\n",
    "\n",
    "screen_width, screen_height = pyautogui.size()\n",
    "pyautogui.FAILSAFE = False\n",
    "\n",
    "x_po_org, y_pos_org = pyautogui.position()\n",
    "\n",
    "while True:\n",
    "    pag.moveTo(x_po_org, y_pos_org, 0.5)\n",
    "    time.sleep(10)\n",
    "    for i in range(50):\n",
    "        x_pos, y_pos = pyautogui.position()\n",
    "        if x_pos+5 < screen_width:\n",
    "            x = x_pos+random.randint(1,5)\n",
    "        else:\n",
    "            x = x_pos-random.randint(1,5)\n",
    "        if y_pos+5 < screen_height:\n",
    "            y = y_pos+random.randint(1,5)\n",
    "        else:\n",
    "            y = y_pos-random.randint(1,5)\n",
    "        pag.moveTo(x,y,0.5)\n",
    "        time.sleep(10)\n",
    "\n"
   ]
  }
 ],
 "metadata": {
  "kernelspec": {
   "display_name": "Python 3",
   "language": "python",
   "name": "python3"
  },
  "language_info": {
   "codemirror_mode": {
    "name": "ipython",
    "version": 3
   },
   "file_extension": ".py",
   "mimetype": "text/x-python",
   "name": "python",
   "nbconvert_exporter": "python",
   "pygments_lexer": "ipython3",
   "version": "3.9.6"
  }
 },
 "nbformat": 4,
 "nbformat_minor": 2
}
